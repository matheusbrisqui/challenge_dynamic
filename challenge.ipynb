{
 "cells": [
  {
   "cell_type": "code",
   "execution_count": 1,
   "metadata": {},
   "outputs": [],
   "source": [
    "import pandas as pd"
   ]
  },
  {
   "cell_type": "code",
   "execution_count": 2,
   "metadata": {},
   "outputs": [
    {
     "data": {
      "text/html": [
       "<div>\n",
       "<style scoped>\n",
       "    .dataframe tbody tr th:only-of-type {\n",
       "        vertical-align: middle;\n",
       "    }\n",
       "\n",
       "    .dataframe tbody tr th {\n",
       "        vertical-align: top;\n",
       "    }\n",
       "\n",
       "    .dataframe thead th {\n",
       "        text-align: right;\n",
       "    }\n",
       "</style>\n",
       "<table border=\"1\" class=\"dataframe\">\n",
       "  <thead>\n",
       "    <tr style=\"text-align: right;\">\n",
       "      <th></th>\n",
       "      <th>Nome</th>\n",
       "      <th>Tempo</th>\n",
       "      <th>Precisão</th>\n",
       "      <th>Erros</th>\n",
       "      <th>Desempenho</th>\n",
       "    </tr>\n",
       "  </thead>\n",
       "  <tbody>\n",
       "    <tr>\n",
       "      <th>0</th>\n",
       "      <td>Estudante 1</td>\n",
       "      <td>300</td>\n",
       "      <td>90</td>\n",
       "      <td>2</td>\n",
       "      <td>88</td>\n",
       "    </tr>\n",
       "    <tr>\n",
       "      <th>1</th>\n",
       "      <td>Estudante 2</td>\n",
       "      <td>250</td>\n",
       "      <td>85</td>\n",
       "      <td>3</td>\n",
       "      <td>80</td>\n",
       "    </tr>\n",
       "  </tbody>\n",
       "</table>\n",
       "</div>"
      ],
      "text/plain": [
       "          Nome  Tempo  Precisão  Erros  Desempenho\n",
       "0  Estudante 1    300        90      2          88\n",
       "1  Estudante 2    250        85      3          80"
      ]
     },
     "execution_count": 2,
     "metadata": {},
     "output_type": "execute_result"
    }
   ],
   "source": [
    "# Exemplo de estrutura de tabela para armazenar os resultados\n",
    "resultados = pd.DataFrame({\n",
    "    'Nome': ['Estudante 1', 'Estudante 2'],\n",
    "    'Tempo': [300, 250],  # Tempo em segundos\n",
    "    'Precisão': [90, 85],  # Precisão em porcentagem\n",
    "    'Erros': [2, 3],  # Número de erros\n",
    "    'Desempenho': [88, 80]  # Pontuação calculada\n",
    "})\n",
    "\n",
    "resultados"
   ]
  },
  {
   "cell_type": "code",
   "execution_count": 3,
   "metadata": {},
   "outputs": [],
   "source": [
    "def calcular_desempenho(tempo, precisao, erros):\n",
    "    # Fórmula de pontuação: precisão ajustada pelo tempo e erros\n",
    "    desempenho = (precisao / (tempo + erros)) * 100\n",
    "    return desempenho"
   ]
  },
  {
   "cell_type": "code",
   "execution_count": 4,
   "metadata": {},
   "outputs": [
    {
     "name": "stdout",
     "output_type": "stream",
     "text": [
      "Pontuação: 35.57\n"
     ]
    }
   ],
   "source": [
    "# Testando a função com dados de um estudante\n",
    "tempo = 250  # segundos\n",
    "precisao = 90  # porcentagem\n",
    "erros = 3  # número de erros\n",
    "\n",
    "pontuacao = calcular_desempenho(tempo, precisao, erros)\n",
    "print(f'Pontuação: {pontuacao:.2f}')"
   ]
  },
  {
   "cell_type": "code",
   "execution_count": 5,
   "metadata": {},
   "outputs": [],
   "source": [
    "# Inicializar tabela de resultados\n",
    "resultados = pd.DataFrame(columns=['Nome', 'Tempo', 'Precisão', 'Erros', 'Desempenho'])\n"
   ]
  },
  {
   "cell_type": "code",
   "execution_count": 6,
   "metadata": {},
   "outputs": [],
   "source": [
    "def armazenar_resultados(nome, tempo, precisao, erros):\n",
    "    desempenho = calcular_desempenho(tempo, precisao, erros)\n",
    "    novo_resultado = pd.DataFrame({\n",
    "        'Nome': [nome],\n",
    "        'Tempo': [tempo],\n",
    "        'Precisão': [precisao],\n",
    "        'Erros': [erros],\n",
    "        'Desempenho': [desempenho]\n",
    "    })\n",
    "    # Adiciona o novo resultado na tabela existente\n",
    "    global resultados\n",
    "    resultados = pd.concat([resultados, novo_resultado], ignore_index=True)\n",
    "    return resultados"
   ]
  },
  {
   "cell_type": "code",
   "execution_count": 7,
   "metadata": {},
   "outputs": [
    {
     "name": "stderr",
     "output_type": "stream",
     "text": [
      "C:\\Users\\mabri\\AppData\\Local\\Temp\\ipykernel_12052\\3315621693.py:12: FutureWarning: The behavior of DataFrame concatenation with empty or all-NA entries is deprecated. In a future version, this will no longer exclude empty or all-NA columns when determining the result dtypes. To retain the old behavior, exclude the relevant entries before the concat operation.\n",
      "  resultados = pd.concat([resultados, novo_resultado], ignore_index=True)\n"
     ]
    },
    {
     "data": {
      "text/html": [
       "<div>\n",
       "<style scoped>\n",
       "    .dataframe tbody tr th:only-of-type {\n",
       "        vertical-align: middle;\n",
       "    }\n",
       "\n",
       "    .dataframe tbody tr th {\n",
       "        vertical-align: top;\n",
       "    }\n",
       "\n",
       "    .dataframe thead th {\n",
       "        text-align: right;\n",
       "    }\n",
       "</style>\n",
       "<table border=\"1\" class=\"dataframe\">\n",
       "  <thead>\n",
       "    <tr style=\"text-align: right;\">\n",
       "      <th></th>\n",
       "      <th>Nome</th>\n",
       "      <th>Tempo</th>\n",
       "      <th>Precisão</th>\n",
       "      <th>Erros</th>\n",
       "      <th>Desempenho</th>\n",
       "    </tr>\n",
       "  </thead>\n",
       "  <tbody>\n",
       "    <tr>\n",
       "      <th>0</th>\n",
       "      <td>Estudante 1</td>\n",
       "      <td>300</td>\n",
       "      <td>90</td>\n",
       "      <td>2</td>\n",
       "      <td>29.801325</td>\n",
       "    </tr>\n",
       "    <tr>\n",
       "      <th>1</th>\n",
       "      <td>Estudante 2</td>\n",
       "      <td>250</td>\n",
       "      <td>85</td>\n",
       "      <td>3</td>\n",
       "      <td>33.596838</td>\n",
       "    </tr>\n",
       "  </tbody>\n",
       "</table>\n",
       "</div>"
      ],
      "text/plain": [
       "          Nome Tempo Precisão Erros  Desempenho\n",
       "0  Estudante 1   300       90     2   29.801325\n",
       "1  Estudante 2   250       85     3   33.596838"
      ]
     },
     "execution_count": 7,
     "metadata": {},
     "output_type": "execute_result"
    }
   ],
   "source": [
    "# Adicionando resultados de estudantes\n",
    "armazenar_resultados('Estudante 1', 300, 90, 2)\n",
    "armazenar_resultados('Estudante 2', 250, 85, 3)\n",
    "\n",
    "resultados"
   ]
  },
  {
   "cell_type": "code",
   "execution_count": 8,
   "metadata": {},
   "outputs": [],
   "source": [
    "def fornecer_feedback(desempenho):\n",
    "    if desempenho >= 90:\n",
    "        return \"Excelente desempenho! Continue assim.\"\n",
    "    elif 75 <= desempenho < 90:\n",
    "        return \"Bom trabalho, mas ainda há espaço para melhorias.\"\n",
    "    else:\n",
    "        return \"Você precisa de mais prática. Continue treinando.\""
   ]
  },
  {
   "cell_type": "code",
   "execution_count": 9,
   "metadata": {},
   "outputs": [
    {
     "data": {
      "text/plain": [
       "'Você precisa de mais prática. Continue treinando.'"
      ]
     },
     "execution_count": 9,
     "metadata": {},
     "output_type": "execute_result"
    }
   ],
   "source": [
    "# Gerando feedback com base na pontuação de um estudante\n",
    "feedback = fornecer_feedback(pontuacao)\n",
    "feedback"
   ]
  }
 ],
 "metadata": {
  "kernelspec": {
   "display_name": "Python 3",
   "language": "python",
   "name": "python3"
  },
  "language_info": {
   "codemirror_mode": {
    "name": "ipython",
    "version": 3
   },
   "file_extension": ".py",
   "mimetype": "text/x-python",
   "name": "python",
   "nbconvert_exporter": "python",
   "pygments_lexer": "ipython3",
   "version": "3.11.2"
  }
 },
 "nbformat": 4,
 "nbformat_minor": 2
}
